{
 "cells": [
  {
   "cell_type": "markdown",
   "id": "fe519838-4e71-4b5d-a649-01477ddc27cc",
   "metadata": {},
   "source": [
    "## Imports"
   ]
  },
  {
   "cell_type": "code",
   "execution_count": 2,
   "id": "15d4affb-9f6c-4b08-ad57-01047c22a377",
   "metadata": {},
   "outputs": [],
   "source": [
    "import sys\n",
    "sys.path.append('../')"
   ]
  },
  {
   "cell_type": "code",
   "execution_count": 24,
   "id": "b5e0850a-01ba-4cdf-9fd2-9d18cec15415",
   "metadata": {},
   "outputs": [],
   "source": [
    "from munch import Munch\n",
    "from PIL import Image"
   ]
  },
  {
   "cell_type": "code",
   "execution_count": 25,
   "id": "90d578a7-14f5-4090-a916-f61fe9651b14",
   "metadata": {},
   "outputs": [],
   "source": [
    "from core.data_loader import get_test_loader, InputFetcher, get_test_transform"
   ]
  },
  {
   "cell_type": "code",
   "execution_count": 3,
   "id": "8b217918-2ecb-469b-b76d-1acb593d068b",
   "metadata": {},
   "outputs": [],
   "source": [
    "%load_ext autoreload\n",
    "%autoreload 2"
   ]
  },
  {
   "cell_type": "markdown",
   "id": "f4178df9-c28f-4aa4-a649-4a4ef0fe4d52",
   "metadata": {},
   "source": [
    "## Objective"
   ]
  },
  {
   "cell_type": "markdown",
   "id": "21f3a213-1bed-4549-8763-6beb74991138",
   "metadata": {},
   "source": [
    "* Create a `predict` function that accepts 1 source image and 1 reference image"
   ]
  },
  {
   "cell_type": "markdown",
   "id": "4d085752-8378-4445-a22e-2e4e5e81fd50",
   "metadata": {},
   "source": [
    "## Get shape of data passed to `utils.translate_using_reference`"
   ]
  },
  {
   "cell_type": "code",
   "execution_count": 15,
   "id": "9e8970d0-6412-47ef-ade8-532289ae1773",
   "metadata": {},
   "outputs": [],
   "source": [
    "args = Munch(src_dir='../assets/representative/celeba_hq/src',\n",
    "            ref_dir='../assets/representative/celeba_hq/ref',\n",
    "            img_size=256,\n",
    "            val_batch_size=32,\n",
    "            num_workers=4,\n",
    "            latent_dim=16)"
   ]
  },
  {
   "cell_type": "code",
   "execution_count": 11,
   "id": "9b4a659a-0d46-4a09-bcd4-1b7405c4d8de",
   "metadata": {},
   "outputs": [
    {
     "name": "stdout",
     "output_type": "stream",
     "text": [
      "Preparing DataLoader for the generation phase...\n",
      "Preparing DataLoader for the generation phase...\n"
     ]
    }
   ],
   "source": [
    "loaders = Munch(src=get_test_loader(root=args.src_dir,\n",
    "                                            img_size=args.img_size,\n",
    "                                            batch_size=args.val_batch_size,\n",
    "                                            shuffle=False,\n",
    "                                            num_workers=args.num_workers),\n",
    "                        ref=get_test_loader(root=args.ref_dir,\n",
    "                                            img_size=args.img_size,\n",
    "                                            batch_size=args.val_batch_size,\n",
    "                                            shuffle=False,\n",
    "                                            num_workers=args.num_workers))"
   ]
  },
  {
   "cell_type": "code",
   "execution_count": 16,
   "id": "6bf3e216-4b09-4ae0-80b6-a6af06fad831",
   "metadata": {},
   "outputs": [],
   "source": [
    "src = next(InputFetcher(loaders.src, None, args.latent_dim, 'test'))\n",
    "ref = next(InputFetcher(loaders.ref, None, args.latent_dim, 'test'))"
   ]
  },
  {
   "cell_type": "code",
   "execution_count": 18,
   "id": "e12c52d4-f515-4303-b524-e2fc2a76ed0c",
   "metadata": {},
   "outputs": [
    {
     "data": {
      "text/plain": [
       "torch.Size([10, 3, 256, 256])"
      ]
     },
     "execution_count": 18,
     "metadata": {},
     "output_type": "execute_result"
    }
   ],
   "source": [
    "src.x.shape"
   ]
  },
  {
   "cell_type": "code",
   "execution_count": 21,
   "id": "431601bf-a472-405e-ade9-867e724c4e1e",
   "metadata": {},
   "outputs": [
    {
     "data": {
      "text/plain": [
       "torch.Size([32, 3, 256, 256])"
      ]
     },
     "execution_count": 21,
     "metadata": {},
     "output_type": "execute_result"
    }
   ],
   "source": [
    "ref.x.shape"
   ]
  },
  {
   "cell_type": "code",
   "execution_count": 22,
   "id": "04f076e1-1a52-4ac3-8aa9-7a3be2970613",
   "metadata": {},
   "outputs": [
    {
     "data": {
      "text/plain": [
       "torch.Size([32])"
      ]
     },
     "execution_count": 22,
     "metadata": {},
     "output_type": "execute_result"
    }
   ],
   "source": [
    "ref.y.shape"
   ]
  },
  {
   "cell_type": "code",
   "execution_count": 23,
   "id": "d0991870-cb9d-4ffc-a692-3553c42f7bf7",
   "metadata": {},
   "outputs": [
    {
     "data": {
      "text/plain": [
       "tensor([0, 0, 0, 0, 0, 0, 0, 0, 0, 0, 0, 0, 0, 0, 0, 0, 0, 0, 0, 0, 0, 0, 0, 0,\n",
       "        0, 1, 1, 1, 1, 1, 1, 1], device='cuda:0')"
      ]
     },
     "execution_count": 23,
     "metadata": {},
     "output_type": "execute_result"
    }
   ],
   "source": [
    "ref.y"
   ]
  },
  {
   "cell_type": "code",
   "execution_count": null,
   "id": "2139eb94-0460-4fe9-99bc-c87c4ff244b3",
   "metadata": {},
   "outputs": [],
   "source": []
  }
 ],
 "metadata": {
  "kernelspec": {
   "display_name": "Python 3",
   "language": "python",
   "name": "python3"
  },
  "language_info": {
   "codemirror_mode": {
    "name": "ipython",
    "version": 3
   },
   "file_extension": ".py",
   "mimetype": "text/x-python",
   "name": "python",
   "nbconvert_exporter": "python",
   "pygments_lexer": "ipython3",
   "version": "3.6.7"
  }
 },
 "nbformat": 4,
 "nbformat_minor": 5
}
